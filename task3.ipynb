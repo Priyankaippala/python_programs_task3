{
 "cells": [
  {
   "cell_type": "code",
   "execution_count": 1,
   "id": "40df2c9e",
   "metadata": {},
   "outputs": [
    {
     "name": "stdout",
     "output_type": "stream",
     "text": [
      "1+2j\n",
      "2.23606797749979\n",
      "1.1071487177940904\n"
     ]
    }
   ],
   "source": [
    "#polar coordinates\n",
    "import cmath\n",
    "z = complex(input())\n",
    "print(abs(z))\n",
    "print(cmath.phase(z))"
   ]
  },
  {
   "cell_type": "code",
   "execution_count": 2,
   "id": "aad2f4e3",
   "metadata": {},
   "outputs": [
    {
     "name": "stdout",
     "output_type": "stream",
     "text": [
      "10\n",
      "10\n",
      "45°\n"
     ]
    }
   ],
   "source": [
    "#find the angle\n",
    "from math import atan, degrees\n",
    "side1 = int(input())\n",
    "side2 = int(input())\n",
    " \n",
    "angle = atan(side1/side2)\n",
    "ans = f'{round(degrees(angle))}'+'\\xb0'\n",
    "print(ans)"
   ]
  },
  {
   "cell_type": "code",
   "execution_count": 3,
   "id": "e3108b82",
   "metadata": {},
   "outputs": [
    {
     "name": "stdout",
     "output_type": "stream",
     "text": [
      "5\n",
      "1\n",
      "121\n",
      "12321\n",
      "1234321\n",
      "123454321\n"
     ]
    }
   ],
   "source": [
    "#triangle quest\n",
    "for i in range(1,int(input())+1):\n",
    "    print(((10**i-1)//9)**2)  "
   ]
  },
  {
   "cell_type": "code",
   "execution_count": 4,
   "id": "e3196f87",
   "metadata": {},
   "outputs": [
    {
     "name": "stdout",
     "output_type": "stream",
     "text": [
      "177\n",
      "10\n",
      "17\n",
      "7\n",
      "(17, 7)\n"
     ]
    }
   ],
   "source": [
    "#mod division\n",
    "n = int(input())\n",
    "m = int(input())\n",
    "s = divmod(n,m)\n",
    "print(f'{s[0]}\\n{s[1]}\\n{s}')"
   ]
  },
  {
   "cell_type": "code",
   "execution_count": 1,
   "id": "c3575ee3",
   "metadata": {},
   "outputs": [
    {
     "name": "stdout",
     "output_type": "stream",
     "text": [
      "3\n",
      "4\n",
      "5\n",
      "81\n",
      "1\n"
     ]
    }
   ],
   "source": [
    "#power mod \n",
    "a = int(input())\n",
    "b = int(input())\n",
    "m = int(input())\n",
    "print(pow(a,b))\n",
    "print(pow(a,b,m))\n",
    "\n",
    "# 3 4 5"
   ]
  },
  {
   "cell_type": "code",
   "execution_count": 2,
   "id": "a522a97a",
   "metadata": {},
   "outputs": [
    {
     "name": "stdout",
     "output_type": "stream",
     "text": [
      "9\n",
      "29\n",
      "7\n",
      "27\n",
      "4710194409608608369201743232\n"
     ]
    }
   ],
   "source": [
    "#integer come in all sizes\n",
    "a = int(input())\n",
    "b = int(input())\n",
    "c = int(input())\n",
    "d = int(input())\n",
    "result = a**b + c**d\n",
    "print(result)\n",
    "\n",
    "#9 29 7 27"
   ]
  },
  {
   "cell_type": "code",
   "execution_count": 3,
   "id": "d4f77f3b",
   "metadata": {},
   "outputs": [
    {
     "name": "stdout",
     "output_type": "stream",
     "text": [
      "5\n",
      "1\n",
      "22\n",
      "333\n",
      "4444\n"
     ]
    }
   ],
   "source": [
    "for i in range(1,int(input())):\n",
    "    print(((10**i-1)//9)*i)\n",
    "    \n",
    "#5"
   ]
  }
 ],
 "metadata": {
  "kernelspec": {
   "display_name": "Python 3 (ipykernel)",
   "language": "python",
   "name": "python3"
  },
  "language_info": {
   "codemirror_mode": {
    "name": "ipython",
    "version": 3
   },
   "file_extension": ".py",
   "mimetype": "text/x-python",
   "name": "python",
   "nbconvert_exporter": "python",
   "pygments_lexer": "ipython3",
   "version": "3.9.12"
  }
 },
 "nbformat": 4,
 "nbformat_minor": 5
}
